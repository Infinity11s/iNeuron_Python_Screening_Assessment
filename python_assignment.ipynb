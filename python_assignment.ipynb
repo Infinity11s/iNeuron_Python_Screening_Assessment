{
 "cells": [
  {
   "cell_type": "markdown",
   "id": "b2e60607",
   "metadata": {},
   "source": [
    "#Create a function in python to read the text file and replace specific content of the file"
   ]
  },
  {
   "cell_type": "code",
   "execution_count": 1,
   "id": "e7e92e15",
   "metadata": {},
   "outputs": [],
   "source": [
    "# Read the file\n",
    "with open('example.txt', 'r') as file:\n",
    "    filedata = file.read()\n",
    "    \n",
    "# Replace the target string\n",
    "filedata = filedata.replace('placement', 'screening')\n",
    "\n",
    "# Write the file output\n",
    "with open('example.txt', 'w') as file:\n",
    "    file.write(filedata)"
   ]
  },
  {
   "cell_type": "markdown",
   "id": "5875e136",
   "metadata": {},
   "source": []
  },
  {
   "cell_type": "markdown",
   "id": "caad8445",
   "metadata": {},
   "source": [
    "# Demonstate use of abstract class , multiple inheritance and decorator\n"
   ]
  },
  {
   "cell_type": "code",
   "execution_count": 5,
   "id": "92a05db6",
   "metadata": {},
   "outputs": [
    {
     "name": "stdout",
     "output_type": "stream",
     "text": [
      "Red in Color\n",
      "Yellow in Color\n"
     ]
    }
   ],
   "source": [
    "# Abstract Class\n",
    "\n",
    "from abc import ABC, abstractmethod\n",
    "class Fruit(ABC):\n",
    "    def tasty(self):\n",
    "        pass\n",
    "    \n",
    "class Apple(Fruit):\n",
    "    def tasty(self):\n",
    "        print(\"Red in Color\")\n",
    "        \n",
    "class Banana(Fruit):\n",
    "    def tasty(self):\n",
    "        print(\"Yellow in Color\")\n",
    "        \n",
    "class Custordapple(Fruit):\n",
    "    def tasty(self):\n",
    "        print(\"Green in Color\")\n",
    "        \n",
    "F = Apple()\n",
    "F.tasty()\n",
    "\n",
    "f = Banana()\n",
    "f.tasty()"
   ]
  },
  {
   "cell_type": "code",
   "execution_count": 6,
   "id": "4ee19eb8",
   "metadata": {},
   "outputs": [
    {
     "name": "stdout",
     "output_type": "stream",
     "text": [
      "True\n"
     ]
    }
   ],
   "source": [
    "# Abstract through subsetting\n",
    "import abc\n",
    "\n",
    "class parent:\n",
    "    def nice(self):\n",
    "        pass\n",
    "class child(parent):\n",
    "    def nice(self):\n",
    "        print(\"child class\")\n",
    "        \n",
    "        \n",
    "print(issubclass(child,parent))"
   ]
  },
  {
   "cell_type": "markdown",
   "id": "058904b7",
   "metadata": {},
   "source": [
    "# Mutltiple Inheritance\n",
    "When class is derived from more than one main class"
   ]
  },
  {
   "cell_type": "code",
   "execution_count": 7,
   "id": "8838bdf4",
   "metadata": {},
   "outputs": [
    {
     "name": "stdout",
     "output_type": "stream",
     "text": [
      "Class on ground floor\n",
      "room number 1-3 \n",
      "room number 4-6 \n",
      "room number 7-9 \n"
     ]
    }
   ],
   "source": [
    "class Student_10:\n",
    "    def m(self):\n",
    "        print(\"room number 1-3 \")\n",
    "        \n",
    "class Student_9:\n",
    "    def m(self):\n",
    "        print(\"room number 4-6 \")\n",
    "        \n",
    "class Student_8:\n",
    "    def m(self):\n",
    "        print(\"room number 7-9 \")\n",
    "        \n",
    "class Student(Student_10,Student_9,Student_8):\n",
    "    def m(self):\n",
    "        print(\"Class on ground floor\")\n",
    "        \n",
    "obj = Student()\n",
    "obj.m()\n",
    "\n",
    "Student_10.m(obj)\n",
    "Student_9.m(obj)\n",
    "Student_8.m(obj)\n"
   ]
  },
  {
   "cell_type": "markdown",
   "id": "701eb4e3",
   "metadata": {},
   "source": [
    "# Decorator in Python"
   ]
  },
  {
   "cell_type": "code",
   "execution_count": null,
   "id": "855a97c3",
   "metadata": {},
   "outputs": [],
   "source": [
    "# Defining Decorator\n",
    "def data(xyz):\n",
    "    def good():\n",
    "        print(\"Hello , this is a good data\")\n",
    "        \n",
    "        xyz()\n",
    "        print(\"large amount of data\")\n",
    "        \n",
    "    return good\n",
    "\n",
    "def best_model():\n",
    "    print(\"large amount of data may give good model\")\n",
    "    \n",
    "best_model = data(best_model)\n",
    "\n",
    "best_model"
   ]
  }
 ],
 "metadata": {
  "kernelspec": {
   "display_name": "Python 3 (ipykernel)",
   "language": "python",
   "name": "python3"
  },
  "language_info": {
   "codemirror_mode": {
    "name": "ipython",
    "version": 3
   },
   "file_extension": ".py",
   "mimetype": "text/x-python",
   "name": "python",
   "nbconvert_exporter": "python",
   "pygments_lexer": "ipython3",
   "version": "3.8.5"
  }
 },
 "nbformat": 4,
 "nbformat_minor": 5
}
